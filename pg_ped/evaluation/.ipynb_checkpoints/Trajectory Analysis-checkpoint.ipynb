{
 "cells": [
  {
   "cell_type": "markdown",
   "metadata": {},
   "source": [
    "# Acknowledgement\n",
    "\n",
    "This analysis is based on the code from the modellierungsseminar in the winter semester 2018/2019 at University of Applied Sciences taught and organized by Prof. Dr. Gerta Köster and Benedikt Kleinmeier. Students providing code and thought: A. Maier, F. Flach, J. Goltz, P. Schuegraf"
   ]
  },
  {
   "cell_type": "markdown",
   "metadata": {},
   "source": [
    "# Globals"
   ]
  },
  {
   "cell_type": "code",
   "execution_count": 1,
   "metadata": {},
   "outputs": [],
   "source": [
    "import sys\n",
    "import os\n",
    "\n",
    "# PATH\n",
    "BASE_PATH = \"/home/philipp/Repos\"\n",
    "LIBRARY_PATH = \"pg-ped\"\n",
    "LIBRARY_PATH = os.path.join(BASE_PATH, LIBRARY_PATH)\n",
    "EXPERIMENT_PATH = \"pg-ped-experiments\"\n",
    "EXPERIMENT_PATH = os.path.join(BASE_PATH, EXPERIMENT_PATH)\n",
    "sys.path.append(BASE_PATH)\n",
    "sys.path.append(LIBRARY_PATH)\n",
    "sys.path.append(EXPERIMENT_PATH)\n",
    "\n",
    "# AUX FOR PLOT\n",
    "X_MIN, X_MAX = 0., 1.55\n",
    "BOX_MIN, BOX_MAX = 3., 4.7\n",
    "Y_MIN, Y_MAX = 0., 5.\n",
    "ROWS, COLS = 96, 30"
   ]
  },
  {
   "cell_type": "markdown",
   "metadata": {},
   "source": [
    "# Imports"
   ]
  },
  {
   "cell_type": "code",
   "execution_count": 2,
   "metadata": {},
   "outputs": [],
   "source": [
    "from math import ceil\n",
    "from typing import List\n",
    "\n",
    "import numpy as np\n",
    "from scipy.spatial import Voronoi, voronoi_plot_2d, ConvexHull\n",
    "import pandas as pd\n",
    "import torch\n",
    "\n",
    "%matplotlib inline\n",
    "import matplotlib.pyplot as plt\n",
    "\n",
    "from helpers import find_trajectory_paths\n",
    "from pg_ped.visualization.plot_trajectories import plot_trajectories"
   ]
  },
  {
   "cell_type": "markdown",
   "metadata": {},
   "source": [
    "# Analysis Parameters"
   ]
  },
  {
   "cell_type": "code",
   "execution_count": 31,
   "metadata": {},
   "outputs": [],
   "source": [
    "experiment_root = \"PolicyGradientsSimplifiedKinematics\"\n",
    "n_agents = 2\n",
    "n_episodes = 20\n",
    "experiment_specifier = f\"{n_agents - 1}w_lr_4_4_mlp1l512n_rewardaccumulateddensity_sig50\"\n",
    "trajectory_path = os.path.join( \n",
    "    EXPERIMENT_PATH,\n",
    "    experiment_root,\n",
    "    \"trajectories\",\n",
    "    experiment_specifier\n",
    ")\n",
    "TRAJECTORYPLOT_PATH = \"trajectoryplots\"\n",
    "TRAJECTORYPLOT_PATH = os.path.join(EXPERIMENT_PATH, experiment_root, TRAJECTORYPLOT_PATH)\n",
    "sys.path.append(trajectory_path)"
   ]
  },
  {
   "cell_type": "code",
   "execution_count": 32,
   "metadata": {},
   "outputs": [
    {
     "name": "stdout",
     "output_type": "stream",
     "text": [
      "/home/philipp/Repos/pg-ped-experiments/PolicyGradientsSimplifiedKinematics/trajectoryplots\n"
     ]
    }
   ],
   "source": [
    "print(TRAJECTORYPLOT_PATH)"
   ]
  },
  {
   "cell_type": "markdown",
   "metadata": {},
   "source": [
    "# Load Data \n",
    "EPISODE X AGENT X STEP X COORDINATES(X,Y)"
   ]
  },
  {
   "cell_type": "code",
   "execution_count": 33,
   "metadata": {},
   "outputs": [],
   "source": [
    "all_episodes = []\n",
    "\n",
    "for episode in range(n_episodes):\n",
    "    # Runner Data\n",
    "    runner_files = find_trajectory_paths(path=trajectory_path + f\"/episode_{episode}\",\n",
    "                                      search_pattern=\"agent_0.txt\") # Search filenames\n",
    "    runner_data = []\n",
    "    for rf in runner_files:\n",
    "        runner_data += [pd.read_csv(rf)[[' x (m)', ' y (m)']]]\n",
    "\n",
    "    runner_data_numpy = [rd.values for rd in runner_data] # plot func needs np.ndarray\n",
    "    #runner_data_numpy = [np.expand_dims(rdn, 1) for rdn in runner_data_numpy] # insert axis for plot func\n",
    "\n",
    "    # Waiting Data\n",
    "    all_waiting = []\n",
    "    for i in range(1, n_agents):\n",
    "        waiting_files = find_trajectory_paths(path=trajectory_path + f\"/episode_{episode}\",\n",
    "                                          search_pattern=\"agent_\" + str(i) + \".txt\") # Search filenames\n",
    "        waiting_data = []\n",
    "        for wf in waiting_files:\n",
    "            waiting_data += [pd.read_csv(wf)[[' x (m)', ' y (m)']]]\n",
    "\n",
    "        waiting_data_numpy = [wd.values for wd in waiting_data] # plot func needs np.ndarray\n",
    "        #waiting_data_numpy = [np.expand_dims(wdn, 1) for wdn in waiting_data_numpy] # insert axis for plot func\n",
    "        all_waiting += [waiting_data_numpy]\n",
    "\n",
    "    # Both datasets\n",
    "    all_data = [runner_data_numpy] + all_waiting\n",
    "    \n",
    "    all_episodes += [all_data]"
   ]
  },
  {
   "cell_type": "markdown",
   "metadata": {},
   "source": [
    "# Save runner trajectories in original state representation\n",
    "\n",
    "This is to use the trajectories in reward function analysis. In the notebook `Reward Function Analysis.ipynb`, the reward function is animated over an episode for one agent."
   ]
  },
  {
   "cell_type": "code",
   "execution_count": 34,
   "metadata": {},
   "outputs": [],
   "source": [
    "all_traj_states = []\n",
    "for i in range(n_episodes):\n",
    "    states = []\n",
    "    state = np.zeros([n_agents, 12])\n",
    "    episode = all_episodes[i]\n",
    "    length_episode = len(episode[0][0])\n",
    "    for t in range(length_episode):\n",
    "        for a in range(n_agents):\n",
    "            state[a, :2] = episode[a][0][t]\n",
    "            if t >= 1:\n",
    "                state[a, 4:6] = episode[a][0][t - 1]\n",
    "                #state[a, 2:4] = state[a, :2] - state[a, 4:6]\n",
    "            if t >= 2:\n",
    "                state[a, 8:10] = episode[a][0][t - 2]\n",
    "                #state[a, 6:8] = state[a, :2] - state[a, 4:6]\n",
    "        states += [state.copy()]\n",
    "    states = np.array(states)\n",
    "    all_traj_states += [states]"
   ]
  },
  {
   "cell_type": "code",
   "execution_count": 35,
   "metadata": {},
   "outputs": [],
   "source": [
    "for i, traj_states in enumerate(all_traj_states):\n",
    "    np.save('sample_trajectory_' + str(i), traj_states)"
   ]
  },
  {
   "cell_type": "markdown",
   "metadata": {},
   "source": [
    "# Plot Runner Trajectories"
   ]
  },
  {
   "cell_type": "code",
   "execution_count": null,
   "metadata": {},
   "outputs": [],
   "source": [
    "def shifty(data, shift):\n",
    "    for p in data:\n",
    "        p[1] -= shift\n",
    "    return data\n",
    "\n",
    "def plot_trajectories(episode, colors):\n",
    "    n_agents = len(episode)\n",
    "    root_n_agents = n_agents ** 0.5\n",
    "    cols = int(ceil(root_n_agents))\n",
    "    rows = int(root_n_agents)\n",
    "    rows = max(rows, 2)\n",
    "    fig, axs = plt.subplots(rows, cols, figsize=[12, 12])\n",
    "    for i, agent in enumerate(episode):\n",
    "        r, c = int(i / cols), i % cols\n",
    "        color = colors[i]\n",
    "        positions = agent[0].copy()\n",
    "        positions = shifty(positions, -3.)\n",
    "        axs[r, c].hlines([BOX_MIN, BOX_MAX], X_MIN, X_MAX)\n",
    "        axs[r, c].plot(positions[:, 0], positions[:, 1], color=color)\n",
    "        axs[r, c].axis('off')\n",
    "        axs[r, c].set_aspect('equal')\n",
    "        axs[r, c].set_xlim(X_MIN, X_MAX)\n",
    "        axs[r, c].set_ylim(Y_MIN, Y_MAX)\n",
    "    plt.show()\n",
    "    \n",
    "def plot_trajectories_2agents(episode, colors):\n",
    "    n_agents = len(episode)\n",
    "    root_n_agents = n_agents ** 0.5\n",
    "    cols = 2\n",
    "    rows = 1\n",
    "    fig, axs = plt.subplots(rows, cols, figsize=[12, 12])\n",
    "    for i, agent in enumerate(episode):\n",
    "        color = colors[i]\n",
    "        positions = agent[0].copy()\n",
    "        positions = shifty(positions, -3.)\n",
    "        axs[i].hlines([BOX_MIN, BOX_MAX], X_MIN, X_MAX)\n",
    "        axs[i].plot(positions[:, 0], positions[:, 1], color=color)\n",
    "        axs[i].axis('off')\n",
    "        axs[i].set_aspect('equal')\n",
    "        axs[i].set_xlim(X_MIN, X_MAX)\n",
    "        axs[i].set_ylim(Y_MIN, Y_MAX)\n",
    "    plt.show()\n",
    "    \n",
    "def plot_agent_trajectories(episodes, agent, colors, save=True):\n",
    "    episode_lengths = []\n",
    "    for e in range(len(all_episodes)):\n",
    "        episode_lengths += [all_episodes[e][0][0].shape[0]]\n",
    "    points_agent = []\n",
    "    for e in range(len(all_episodes)):\n",
    "        points_agent += [all_episodes[e][agent][0]]\n",
    "    fig, ax = plt.subplots(figsize=(6, 18))\n",
    "    ax.axis('off')\n",
    "    ax.hlines([BOX_MIN - 3, BOX_MAX - 3], X_MIN, X_MAX)\n",
    "    for ps in points_agent:\n",
    "        ax.plot(ps[:, 0], ps[:, 1])\n",
    "    if save is True:\n",
    "        print(TRAJECTORYPLOT_PATH)\n",
    "        fig.savefig(TRAJECTORYPLOT_PATH)\n",
    "    plt.show()\n",
    "    \n",
    "np.random.seed(0)\n",
    "colors = np.random.rand(n_agents, 3) \n",
    "#points_agent_0 = shifty(points_agent_0, -3)"
   ]
  },
  {
   "cell_type": "code",
   "execution_count": null,
   "metadata": {},
   "outputs": [],
   "source": [
    "plot_agent_trajectories(all_episodes, 0, colors)"
   ]
  },
  {
   "cell_type": "code",
   "execution_count": null,
   "metadata": {},
   "outputs": [],
   "source": [
    "plot_trajectories_2agents(all_episodes[4], colors)"
   ]
  },
  {
   "cell_type": "code",
   "execution_count": null,
   "metadata": {},
   "outputs": [],
   "source": [
    "def cart_to_img(xy, x_min, x_max, y_min, y_max, rows, cols):\n",
    "    return (rows * (1 - xy[1] / (y_max - y_min))).astype(int), (cols * xy[0] / (x_max - x_min)).astype(int)\n",
    "\n",
    "def grid_cell_density(points, x_min, x_max, y_min, y_max, rows, cols):\n",
    "    density_map = np.zeros([rows, cols])\n",
    "    for p in points:\n",
    "        row, col = cart_to_img(p, x_min, x_max, y_min, y_max, rows, cols)\n",
    "        density_map[row, col] += 1\n",
    "    return density_map"
   ]
  },
  {
   "cell_type": "code",
   "execution_count": null,
   "metadata": {},
   "outputs": [],
   "source": [
    "points_runner = np.array(all_episodes[0][0])\n",
    "points_runner = shifty(points_runner, -3)"
   ]
  },
  {
   "cell_type": "code",
   "execution_count": null,
   "metadata": {},
   "outputs": [],
   "source": [
    "episode_lengths = []\n",
    "for e in range(len(all_episodes)):\n",
    "    episode_lengths += [all_episodes[e][0][0].shape[0]]\n",
    "points_agent_0 = np.zeros([sum(episode_lengths), 2])\n",
    "for e in range(len(all_episodes)):\n",
    "    points_agent_0[sum(episode_lengths[:e]): sum(episode_lengths[:e]) + episode_lengths[e], :] = \\\n",
    "        all_episodes[e][0][0]\n",
    "    \n",
    "points_agent_0 = shifty(points_agent_0, -3)"
   ]
  },
  {
   "cell_type": "code",
   "execution_count": null,
   "metadata": {},
   "outputs": [],
   "source": [
    "points_agent_0 = np.zeros([sum(episode_lengths), 2])\n",
    "for e in range(len(all_episodes)):\n",
    "    points_agent_0[sum(episode_lengths[:e]): sum(episode_lengths[:e]) + episode_lengths[e], :] = \\\n",
    "        all_episodes[e][0][0]\n",
    "    \n",
    "# for e in range(len(all_episodes)):\n",
    "#     points_agent_0[sum(episode_lengths[:e]): sum(episode_lengths[:e]) + episode_lengths[e], :] = \\\n",
    "#         all_episodes[e][0][0]\n",
    "    \n",
    "points_agent_0 = shifty(points_agent_0, -3)\n"
   ]
  },
  {
   "cell_type": "code",
   "execution_count": null,
   "metadata": {},
   "outputs": [],
   "source": [
    "density_map = grid_cell_density(points_agent_0, X_MIN, X_MAX, Y_MIN, Y_MAX, ROWS, COLS)\n",
    "density_map = (density_map - density_map.mean())/(density_map.std())\n",
    "fig = plt.figure(figsize=(32,10))\n",
    "plt.imshow(density_map, cmap='gray')\n",
    "plt.axis('off')"
   ]
  },
  {
   "cell_type": "code",
   "execution_count": null,
   "metadata": {},
   "outputs": [],
   "source": [
    "np.savetxt('sample_trajectory.csv', points_agent_0)"
   ]
  },
  {
   "cell_type": "code",
   "execution_count": null,
   "metadata": {},
   "outputs": [],
   "source": []
  },
  {
   "cell_type": "code",
   "execution_count": null,
   "metadata": {},
   "outputs": [],
   "source": []
  },
  {
   "cell_type": "markdown",
   "metadata": {},
   "source": [
    "# Voronoi-based Density"
   ]
  },
  {
   "cell_type": "code",
   "execution_count": null,
   "metadata": {},
   "outputs": [],
   "source": [
    "def voronoi_volumes(v):\n",
    "    vol = np.zeros(v.npoints)\n",
    "    for i, reg_num in enumerate(v.point_region):\n",
    "        indices = v.regions[reg_num]\n",
    "        if -1 in indices: # some regions can be opened\n",
    "            vol[i] = np.inf\n",
    "        else:\n",
    "            vol[i] = ConvexHull(v.vertices[indices]).volume\n",
    "    return vol\n",
    "\n",
    "def boundary_regions(points):\n",
    "    v = Voronoi(points)\n",
    "    v_volumes = voronoi_volumes(v)\n",
    "    boundary_regs = []\n",
    "    for i, vol in enumerate(v_volumes):\n",
    "        if vol == np.inf:\n",
    "            boundary_regs += [v.regions[i]]\n",
    "    return boundary_regs"
   ]
  },
  {
   "cell_type": "code",
   "execution_count": null,
   "metadata": {},
   "outputs": [],
   "source": [
    "boundary_regions(points)"
   ]
  },
  {
   "cell_type": "code",
   "execution_count": null,
   "metadata": {},
   "outputs": [],
   "source": [
    "vor = Voronoi(points)\n",
    "vp = voronoi_plot_2d(vor)"
   ]
  },
  {
   "cell_type": "code",
   "execution_count": null,
   "metadata": {},
   "outputs": [],
   "source": [
    "vor."
   ]
  },
  {
   "cell_type": "code",
   "execution_count": null,
   "metadata": {},
   "outputs": [],
   "source": []
  },
  {
   "cell_type": "code",
   "execution_count": null,
   "metadata": {},
   "outputs": [],
   "source": []
  },
  {
   "cell_type": "code",
   "execution_count": null,
   "metadata": {},
   "outputs": [],
   "source": []
  },
  {
   "cell_type": "code",
   "execution_count": null,
   "metadata": {},
   "outputs": [],
   "source": []
  },
  {
   "cell_type": "code",
   "execution_count": null,
   "metadata": {},
   "outputs": [],
   "source": []
  },
  {
   "cell_type": "code",
   "execution_count": null,
   "metadata": {},
   "outputs": [],
   "source": []
  },
  {
   "cell_type": "code",
   "execution_count": null,
   "metadata": {},
   "outputs": [],
   "source": [
    "listx4 = [[[all_episodes[k][l][m].tolist() for m in range(len(all_episodes[0][0]))] for l in range(len(all_episodes[0]))] for k in range(len(all_episodes))]\n",
    "listx4 = [[[[all_episodes[k][l][m][n].tolist() for n in range(len(all_episodes[0][0][0]))] for m in range(len(all_episodes[0][0]))] for l in range(len(all_episodes[0]))] for k in range(len(all_episodes))]\n",
    "points = np.array(listx4)\n",
    "points.shape"
   ]
  },
  {
   "cell_type": "code",
   "execution_count": null,
   "metadata": {},
   "outputs": [],
   "source": [
    "listlistlist_to_array(all_episodes)[0].shape"
   ]
  },
  {
   "cell_type": "code",
   "execution_count": null,
   "metadata": {},
   "outputs": [],
   "source": [
    "len(all_episodes[1])"
   ]
  },
  {
   "cell_type": "code",
   "execution_count": null,
   "metadata": {},
   "outputs": [],
   "source": [
    "np.array([[1,1],[2,2]])"
   ]
  },
  {
   "cell_type": "code",
   "execution_count": null,
   "metadata": {},
   "outputs": [],
   "source": [
    "np.array(all_episodes).shape"
   ]
  },
  {
   "cell_type": "code",
   "execution_count": null,
   "metadata": {},
   "outputs": [],
   "source": []
  }
 ],
 "metadata": {
  "kernelspec": {
   "display_name": "Python 3",
   "language": "python",
   "name": "python3"
  },
  "language_info": {
   "codemirror_mode": {
    "name": "ipython",
    "version": 3
   },
   "file_extension": ".py",
   "mimetype": "text/x-python",
   "name": "python",
   "nbconvert_exporter": "python",
   "pygments_lexer": "ipython3",
   "version": "3.7.3"
  }
 },
 "nbformat": 4,
 "nbformat_minor": 2
}
