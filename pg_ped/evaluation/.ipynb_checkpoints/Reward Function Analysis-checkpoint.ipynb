{
 "cells": [
  {
   "cell_type": "code",
   "execution_count": 1,
   "metadata": {},
   "outputs": [],
   "source": [
    "import sys\n",
    "LIBRARY_PATH = \"/home/philipp/Repos/pg-ped\"\n",
    "sys.path.append(LIBRARY_PATH)"
   ]
  },
  {
   "cell_type": "code",
   "execution_count": 2,
   "metadata": {},
   "outputs": [],
   "source": [
    "import numpy as np\n",
    "import torch\n",
    "\n",
    "from pg_ped.visualization.visualize_reward import vis_reward, Animator\n",
    "from pg_ped.environment_construction.reward import (reward_accumulated_density,\n",
    "                                                    reward_gravity,\n",
    "                                                    reward_simplified)\n",
    "from pg_ped.utils import get_initial_states_random_on_grid as get_initial_states"
   ]
  },
  {
   "cell_type": "code",
   "execution_count": 3,
   "metadata": {},
   "outputs": [],
   "source": [
    "x_min, x_max, y_min, y_max = 0., 1.55, 0., 2.\n",
    "start_line, goal_line = -1., 1.7\n",
    "person_radius = 0.1\n",
    "number_agents = 2\n",
    "\n",
    "parameter_dict = {'time_per_step': 0.5,\n",
    "                  'influence_radius': 5,\n",
    "                  'standard_deviation': 0.1,\n",
    "                  'person_radius': 0.10,\n",
    "                  'soft_person_radius': 0.15,\n",
    "                  'start_line': start_line,\n",
    "                  'goal_line': goal_line,\n",
    "                  'variables_per_agent_per_timestep': 4,\n",
    "                  'backward_view': 3,\n",
    "                  'device': 'cpu',\n",
    "                  'x_min': x_min,\n",
    "                  'x_max': x_max,\n",
    "                  'y_min': y_min,\n",
    "                  'y_max': y_max,\n",
    "                  'maximum_speed_forward': 1.8,\n",
    "                  'maximum_speed_backward': -0.3,\n",
    "                  'runner_identities': [0]}"
   ]
  },
  {
   "cell_type": "code",
   "execution_count": 4,
   "metadata": {},
   "outputs": [],
   "source": [
    "def array_to_list_of_tensors(arr: np.ndarray):\n",
    "    l = arr.tolist()\n",
    "    list_of_tensors = []\n",
    "    for x in l:\n",
    "        list_of_tensors += [torch.tensor(x)]\n",
    "    return list_of_tensors"
   ]
  },
  {
   "cell_type": "code",
   "execution_count": 10,
   "metadata": {},
   "outputs": [],
   "source": [
    "state_runner = [\n",
    "    [(x_max - x_min) / 2., start_line + person_radius - 0, 0., 1.,\n",
    "     (x_max - x_min) / 2., start_line + person_radius - 1, 0., 1.,\n",
    "     (x_max - x_min) / 2., start_line + person_radius - 2, 0., 1.]\n",
    "]\n",
    "parameter_dict['y_max'] = goal_line\n",
    "#states = get_initial_states(10, state_runner, number_agents=number_agents, **parameter_dict)\n",
    "all_states = []\n",
    "for i in range(20):\n",
    "    all_states += array_to_list_of_tensors(np.load('sample_trajectory_' + str(i) + '.npy'))\n",
    "parameter_dict['y_max'] = y_max"
   ]
  },
  {
   "cell_type": "code",
   "execution_count": 11,
   "metadata": {},
   "outputs": [],
   "source": [
    "#vis_reward(reward_accumulated_density, states[0], 0, states[0], **parameter_dict)"
   ]
  },
  {
   "cell_type": "code",
   "execution_count": 12,
   "metadata": {},
   "outputs": [],
   "source": [
    "animator = Animator(reward_accumulated_density, all_states, 0, vis_reward, all_states[0], **parameter_dict)"
   ]
  },
  {
   "cell_type": "code",
   "execution_count": 13,
   "metadata": {},
   "outputs": [
    {
     "data": {
      "image/png": "[encoded data removed]",
      "text/plain": [
       "<Figure size 432x288 with 1 Axes>"
      ]
     },
     "metadata": {
      "needs_background": "light"
     },
     "output_type": "display_data"
    }
   ],
   "source": [
    "animator.animate()"
   ]
  },
  {
   "cell_type": "code",
   "execution_count": 9,
   "metadata": {},
   "outputs": [
    {
     "data": {
      "text/plain": [
       "[tensor([[ 0.7750, -0.9000,  0.0000,  0.0000,  0.0000,  0.0000,  0.0000,  0.0000,\n",
       "           0.0000,  0.0000,  0.0000,  0.0000],\n",
       "         [ 1.1000,  0.4000,  0.0000,  0.0000,  0.0000,  0.0000,  0.0000,  0.0000,\n",
       "           0.0000,  0.0000,  0.0000,  0.0000]]),\n",
       " tensor([[ 0.9250, -0.7007,  0.0000,  0.0000,  0.7750, -0.9000,  0.0000,  0.0000,\n",
       "           0.0000,  0.0000,  0.0000,  0.0000],\n",
       "         [ 1.1722,  0.4500,  0.0000,  0.0000,  1.1000,  0.4000,  0.0000,  0.0000,\n",
       "           0.0000,  0.0000,  0.0000,  0.0000]]),\n",
       " tensor([[ 1.0578, -0.5341,  0.0000,  0.0000,  0.9250, -0.7007,  0.0000,  0.0000,\n",
       "           0.7750, -0.9000,  0.0000,  0.0000],\n",
       "         [ 1.0718,  0.4858,  0.0000,  0.0000,  1.1722,  0.4500,  0.0000,  0.0000,\n",
       "           1.1000,  0.4000,  0.0000,  0.0000]]),\n",
       " tensor([[ 1.1460, -0.4037,  0.0000,  0.0000,  1.0578, -0.5341,  0.0000,  0.0000,\n",
       "           0.9250, -0.7007,  0.0000,  0.0000],\n",
       "         [ 1.0595,  0.5480,  0.0000,  0.0000,  1.0718,  0.4858,  0.0000,  0.0000,\n",
       "           1.1722,  0.4500,  0.0000,  0.0000]]),\n",
       " tensor([[ 1.2667,  0.1016,  0.0000,  0.0000,  1.1460, -0.4037,  0.0000,  0.0000,\n",
       "           1.0578, -0.5341,  0.0000,  0.0000],\n",
       "         [ 1.1389,  0.6256,  0.0000,  0.0000,  1.0595,  0.5480,  0.0000,  0.0000,\n",
       "           1.0718,  0.4858,  0.0000,  0.0000]]),\n",
       " tensor([[ 1.2655,  0.8861,  0.0000,  0.0000,  1.2667,  0.1016,  0.0000,  0.0000,\n",
       "           1.1460, -0.4037,  0.0000,  0.0000],\n",
       "         [ 1.1235,  0.6303,  0.0000,  0.0000,  1.1389,  0.6256,  0.0000,  0.0000,\n",
       "           1.0595,  0.5480,  0.0000,  0.0000]]),\n",
       " tensor([[ 0.7750, -0.9000,  0.0000,  0.0000,  0.0000,  0.0000,  0.0000,  0.0000,\n",
       "           0.0000,  0.0000,  0.0000,  0.0000],\n",
       "         [ 0.9000,  1.0000,  0.0000,  0.0000,  0.0000,  0.0000,  0.0000,  0.0000,\n",
       "           0.0000,  0.0000,  0.0000,  0.0000]]),\n",
       " tensor([[ 0.9384, -0.6765,  0.0000,  0.0000,  0.7750, -0.9000,  0.0000,  0.0000,\n",
       "           0.0000,  0.0000,  0.0000,  0.0000],\n",
       "         [ 0.8960,  1.1050,  0.0000,  0.0000,  0.9000,  1.0000,  0.0000,  0.0000,\n",
       "           0.0000,  0.0000,  0.0000,  0.0000]]),\n",
       " tensor([[ 1.1086, -0.4757,  0.0000,  0.0000,  0.9384, -0.6765,  0.0000,  0.0000,\n",
       "           0.7750, -0.9000,  0.0000,  0.0000],\n",
       "         [ 0.8983,  1.1067,  0.0000,  0.0000,  0.8960,  1.1050,  0.0000,  0.0000,\n",
       "           0.9000,  1.0000,  0.0000,  0.0000]]),\n",
       " tensor([[ 1.1375,  0.0712,  0.0000,  0.0000,  1.1086, -0.4757,  0.0000,  0.0000,\n",
       "           0.9384, -0.6765,  0.0000,  0.0000],\n",
       "         [ 0.7868,  1.1579,  0.0000,  0.0000,  0.8983,  1.1067,  0.0000,  0.0000,\n",
       "           0.8960,  1.1050,  0.0000,  0.0000]]),\n",
       " tensor([[ 0.9514,  0.8265,  0.0000,  0.0000,  1.1375,  0.0712,  0.0000,  0.0000,\n",
       "           1.1086, -0.4757,  0.0000,  0.0000],\n",
       "         [ 0.8020,  1.0857,  0.0000,  0.0000,  0.7868,  1.1579,  0.0000,  0.0000,\n",
       "           0.8983,  1.1067,  0.0000,  0.0000]]),\n",
       " tensor([[ 0.7750, -0.9000,  0.0000,  0.0000,  0.0000,  0.0000,  0.0000,  0.0000,\n",
       "           0.0000,  0.0000,  0.0000,  0.0000],\n",
       "         [ 0.9000,  1.4000,  0.0000,  0.0000,  0.0000,  0.0000,  0.0000,  0.0000,\n",
       "           0.0000,  0.0000,  0.0000,  0.0000]]),\n",
       " tensor([[ 0.9506, -0.6651,  0.0000,  0.0000,  0.7750, -0.9000,  0.0000,  0.0000,\n",
       "           0.0000,  0.0000,  0.0000,  0.0000],\n",
       "         [ 0.9006,  1.4025,  0.0000,  0.0000,  0.9000,  1.4000,  0.0000,  0.0000,\n",
       "           0.0000,  0.0000,  0.0000,  0.0000]]),\n",
       " tensor([[ 1.1477, -0.4619,  0.0000,  0.0000,  0.9506, -0.6651,  0.0000,  0.0000,\n",
       "           0.7750, -0.9000,  0.0000,  0.0000],\n",
       "         [ 0.9282,  1.4106,  0.0000,  0.0000,  0.9006,  1.4025,  0.0000,  0.0000,\n",
       "           0.9000,  1.4000,  0.0000,  0.0000]]),\n",
       " tensor([[ 1.1441,  0.1448,  0.0000,  0.0000,  1.1477, -0.4619,  0.0000,  0.0000,\n",
       "           0.9506, -0.6651,  0.0000,  0.0000],\n",
       "         [ 0.9372,  1.4013,  0.0000,  0.0000,  0.9282,  1.4106,  0.0000,  0.0000,\n",
       "           0.9006,  1.4025,  0.0000,  0.0000]]),\n",
       " tensor([[ 0.8784,  0.9569,  0.0000,  0.0000,  1.1441,  0.1448,  0.0000,  0.0000,\n",
       "           1.1477, -0.4619,  0.0000,  0.0000],\n",
       "         [ 0.9418,  1.4193,  0.0000,  0.0000,  0.9372,  1.4013,  0.0000,  0.0000,\n",
       "           0.9282,  1.4106,  0.0000,  0.0000]]),\n",
       " tensor([[ 0.7750, -0.9000,  0.0000,  0.0000,  0.0000,  0.0000,  0.0000,  0.0000,\n",
       "           0.0000,  0.0000,  0.0000,  0.0000],\n",
       "         [ 0.3000,  0.6000,  0.0000,  0.0000,  0.0000,  0.0000,  0.0000,  0.0000,\n",
       "           0.0000,  0.0000,  0.0000,  0.0000]]),\n",
       " tensor([[ 0.9548, -0.6767,  0.0000,  0.0000,  0.7750, -0.9000,  0.0000,  0.0000,\n",
       "           0.0000,  0.0000,  0.0000,  0.0000],\n",
       "         [ 0.4302,  0.7552,  0.0000,  0.0000,  0.3000,  0.6000,  0.0000,  0.0000,\n",
       "           0.0000,  0.0000,  0.0000,  0.0000]]),\n",
       " tensor([[ 1.1564, -0.4365,  0.0000,  0.0000,  0.9548, -0.6767,  0.0000,  0.0000,\n",
       "           0.7750, -0.9000,  0.0000,  0.0000],\n",
       "         [ 0.6527,  0.7153,  0.0000,  0.0000,  0.4302,  0.7552,  0.0000,  0.0000,\n",
       "           0.3000,  0.6000,  0.0000,  0.0000]]),\n",
       " tensor([[ 1.1695,  0.2452,  0.0000,  0.0000,  1.1564, -0.4365,  0.0000,  0.0000,\n",
       "           0.9548, -0.6767,  0.0000,  0.0000],\n",
       "         [ 0.7443,  0.5340,  0.0000,  0.0000,  0.6527,  0.7153,  0.0000,  0.0000,\n",
       "           0.4302,  0.7552,  0.0000,  0.0000]]),\n",
       " tensor([[ 0.8357,  1.0307,  0.0000,  0.0000,  1.1695,  0.2452,  0.0000,  0.0000,\n",
       "           1.1564, -0.4365,  0.0000,  0.0000],\n",
       "         [ 0.6559,  0.3981,  0.0000,  0.0000,  0.7443,  0.5340,  0.0000,  0.0000,\n",
       "           0.6527,  0.7153,  0.0000,  0.0000]]),\n",
       " tensor([[ 0.7750, -0.9000,  0.0000,  0.0000,  0.0000,  0.0000,  0.0000,  0.0000,\n",
       "           0.0000,  0.0000,  0.0000,  0.0000],\n",
       "         [ 1.1000,  1.2000,  0.0000,  0.0000,  0.0000,  0.0000,  0.0000,  0.0000,\n",
       "           0.0000,  0.0000,  0.0000,  0.0000]]),\n",
       " tensor([[ 0.9729, -0.6492,  0.0000,  0.0000,  0.7750, -0.9000,  0.0000,  0.0000,\n",
       "           0.0000,  0.0000,  0.0000,  0.0000],\n",
       "         [ 1.0693,  1.1597,  0.0000,  0.0000,  1.1000,  1.2000,  0.0000,  0.0000,\n",
       "           0.0000,  0.0000,  0.0000,  0.0000]]),\n",
       " tensor([[ 1.1397, -0.3857,  0.0000,  0.0000,  0.9729, -0.6492,  0.0000,  0.0000,\n",
       "           0.7750, -0.9000,  0.0000,  0.0000],\n",
       "         [ 1.0576,  1.1610,  0.0000,  0.0000,  1.0693,  1.1597,  0.0000,  0.0000,\n",
       "           1.1000,  1.2000,  0.0000,  0.0000]]),\n",
       " tensor([[ 1.1531,  0.2549,  0.0000,  0.0000,  1.1397, -0.3857,  0.0000,  0.0000,\n",
       "           0.9729, -0.6492,  0.0000,  0.0000],\n",
       "         [ 1.0646,  1.1473,  0.0000,  0.0000,  1.0576,  1.1610,  0.0000,  0.0000,\n",
       "           1.0693,  1.1597,  0.0000,  0.0000]]),\n",
       " tensor([[ 0.9609,  1.0124,  0.0000,  0.0000,  1.1531,  0.2549,  0.0000,  0.0000,\n",
       "           1.1397, -0.3857,  0.0000,  0.0000],\n",
       "         [ 1.0323,  1.0980,  0.0000,  0.0000,  1.0646,  1.1473,  0.0000,  0.0000,\n",
       "           1.0576,  1.1610,  0.0000,  0.0000]])]"
      ]
     },
     "execution_count": 9,
     "metadata": {},
     "output_type": "execute_result"
    }
   ],
   "source": [
    "all_states"
   ]
  },
  {
   "cell_type": "code",
   "execution_count": null,
   "metadata": {},
   "outputs": [],
   "source": []
  }
 ],
 "metadata": {
  "kernelspec": {
   "display_name": "Python 3",
   "language": "python",
   "name": "python3"
  },
  "language_info": {
   "codemirror_mode": {
    "name": "ipython",
    "version": 3
   },
   "file_extension": ".py",
   "mimetype": "text/x-python",
   "name": "python",
   "nbconvert_exporter": "python",
   "pygments_lexer": "ipython3",
   "version": "3.7.3"
  }
 },
 "nbformat": 4,
 "nbformat_minor": 2
}
